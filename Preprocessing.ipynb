{
 "cells": [
  {
   "cell_type": "code",
   "execution_count": 136,
   "metadata": {},
   "outputs": [
    {
     "name": "stderr",
     "output_type": "stream",
     "text": [
      "[nltk_data] Downloading package punkt to\n",
      "[nltk_data]     C:\\Users\\chava\\AppData\\Roaming\\nltk_data...\n",
      "[nltk_data]   Package punkt is already up-to-date!\n"
     ]
    }
   ],
   "source": [
    "import pandas as pd\n",
    "import re\n",
    "import string\n",
    "import nltk\n",
    "from nltk import sent_tokenize\n",
    "from sklearn.model_selection import train_test_split\n",
    "import os\n",
    "nltk.download('punkt')\n",
    "from numpy import NaN"
   ]
  },
  {
   "cell_type": "code",
   "execution_count": 137,
   "metadata": {},
   "outputs": [
    {
     "data": {
      "text/html": [
       "<div>\n",
       "<style scoped>\n",
       "    .dataframe tbody tr th:only-of-type {\n",
       "        vertical-align: middle;\n",
       "    }\n",
       "\n",
       "    .dataframe tbody tr th {\n",
       "        vertical-align: top;\n",
       "    }\n",
       "\n",
       "    .dataframe thead th {\n",
       "        text-align: right;\n",
       "    }\n",
       "</style>\n",
       "<table border=\"1\" class=\"dataframe\">\n",
       "  <thead>\n",
       "    <tr style=\"text-align: right;\">\n",
       "      <th></th>\n",
       "      <th>Unnamed: 0</th>\n",
       "      <th>Post_ID</th>\n",
       "      <th>Comment_ID</th>\n",
       "      <th>Comment</th>\n",
       "      <th>Majority_Sentiment</th>\n",
       "    </tr>\n",
       "  </thead>\n",
       "  <tbody>\n",
       "    <tr>\n",
       "      <th>0</th>\n",
       "      <td>1</td>\n",
       "      <td>108l3ho</td>\n",
       "      <td>j3vlnat</td>\n",
       "      <td>Some of them yes but this one i got it from my...</td>\n",
       "      <td>Neutral</td>\n",
       "    </tr>\n",
       "    <tr>\n",
       "      <th>1</th>\n",
       "      <td>2</td>\n",
       "      <td>10j6oqj</td>\n",
       "      <td>j5j34zb</td>\n",
       "      <td>I keep mine in my phone cover for good luck</td>\n",
       "      <td>Positive</td>\n",
       "    </tr>\n",
       "    <tr>\n",
       "      <th>2</th>\n",
       "      <td>3</td>\n",
       "      <td>10j6oqj</td>\n",
       "      <td>j5jbs3f</td>\n",
       "      <td>Hang on to it! These are rare to come by as th...</td>\n",
       "      <td>Neutral</td>\n",
       "    </tr>\n",
       "    <tr>\n",
       "      <th>3</th>\n",
       "      <td>4</td>\n",
       "      <td>10j6oqj</td>\n",
       "      <td>j5jfczd</td>\n",
       "      <td>Yeah?! Cool, I got this from my classmate in 2...</td>\n",
       "      <td>Positive</td>\n",
       "    </tr>\n",
       "    <tr>\n",
       "      <th>4</th>\n",
       "      <td>5</td>\n",
       "      <td>10o9tvi</td>\n",
       "      <td>j6h1ko8</td>\n",
       "      <td>Check out the Kaja Throm! Beautiful marketplac...</td>\n",
       "      <td>Positive</td>\n",
       "    </tr>\n",
       "  </tbody>\n",
       "</table>\n",
       "</div>"
      ],
      "text/plain": [
       "   Unnamed: 0  Post_ID Comment_ID  \\\n",
       "0           1  108l3ho    j3vlnat   \n",
       "1           2  10j6oqj    j5j34zb   \n",
       "2           3  10j6oqj    j5jbs3f   \n",
       "3           4  10j6oqj    j5jfczd   \n",
       "4           5  10o9tvi    j6h1ko8   \n",
       "\n",
       "                                             Comment Majority_Sentiment  \n",
       "0  Some of them yes but this one i got it from my...            Neutral  \n",
       "1        I keep mine in my phone cover for good luck           Positive  \n",
       "2  Hang on to it! These are rare to come by as th...            Neutral  \n",
       "3  Yeah?! Cool, I got this from my classmate in 2...           Positive  \n",
       "4  Check out the Kaja Throm! Beautiful marketplac...           Positive  "
      ]
     },
     "execution_count": 137,
     "metadata": {},
     "output_type": "execute_result"
    }
   ],
   "source": [
    "filepath = \"Dataset/raw_reddit_data_filtered.csv\"\n",
    "df = pd.read_csv(filepath)\n",
    "df.head()"
   ]
  },
  {
   "cell_type": "code",
   "execution_count": 138,
   "metadata": {},
   "outputs": [
    {
     "data": {
      "text/plain": [
       "335514"
      ]
     },
     "execution_count": 138,
     "metadata": {},
     "output_type": "execute_result"
    }
   ],
   "source": [
    "sentences=[]\n",
    "for comment in df['Comment']:\n",
    "    comment_sent=sent_tokenize(comment)\n",
    "    sentences.extend(comment_sent)\n",
    "\n",
    "len(sentences)"
   ]
  },
  {
   "cell_type": "code",
   "execution_count": 139,
   "metadata": {},
   "outputs": [],
   "source": [
    "sent_df = pd.Series(sentences)"
   ]
  },
  {
   "cell_type": "code",
   "execution_count": 140,
   "metadata": {},
   "outputs": [],
   "source": [
    "for i,row in enumerate(sent_df):\n",
    "    text = row\n",
    "    url_pattern = r'https\\S*|http\\S*|www\\.\\S*|r/\\S*'\n",
    "    cleaned = re.sub(url_pattern, r'', text)\n",
    "    cleaned = re.sub(r'[?|!|\\'|\"|#|%|$|@|*|(|)|\\-|_|=|+]', r' ', cleaned)\n",
    "    cleaned = cleaned.lower()\n",
    "    cleaned = re.sub(r'[0-9]+', ' ', cleaned)\n",
    "    cleaned = re.sub(r'[^\\x00-\\x7F]+', ' ', cleaned)\n",
    "    cleaned = re.sub(r'(?<!\\d)\\.(?!\\d)', ' ', cleaned)\n",
    "    cleaned = re.sub(r'[^\\w\\s.]', ' ', cleaned)\n",
    "    cleaned = ' '.join(cleaned.split())\n",
    "    sent_df[i] = cleaned"
   ]
  },
  {
   "cell_type": "code",
   "execution_count": 141,
   "metadata": {},
   "outputs": [],
   "source": [
    "sent_df[sent_df == \"\"] = NaN"
   ]
  },
  {
   "cell_type": "code",
   "execution_count": 142,
   "metadata": {},
   "outputs": [],
   "source": [
    "sent_df = sent_df.dropna()"
   ]
  },
  {
   "cell_type": "code",
   "execution_count": 143,
   "metadata": {},
   "outputs": [],
   "source": [
    "train, test = train_test_split(sent_df,test_size=0.2)"
   ]
  },
  {
   "cell_type": "code",
   "execution_count": 144,
   "metadata": {},
   "outputs": [],
   "source": [
    "folder_name = 'Dataset/Training'\n",
    "if not os.path.exists(folder_name):\n",
    "    os.makedirs(folder_name)\n",
    "\n",
    "folder_name = 'Dataset/Testing'\n",
    "if not os.path.exists(folder_name):\n",
    "    os.makedirs(folder_name)\n",
    "\n",
    "# Save to CSV files\n",
    "train_file_path = 'Dataset/Training/train_data.csv'\n",
    "test_file_path = 'Dataset/Testing/test_data.csv'\n",
    "train.to_csv(train_file_path, index=False)\n",
    "test.to_csv(test_file_path, index=False)"
   ]
  }
 ],
 "metadata": {
  "kernelspec": {
   "display_name": "Python 3",
   "language": "python",
   "name": "python3"
  },
  "language_info": {
   "codemirror_mode": {
    "name": "ipython",
    "version": 3
   },
   "file_extension": ".py",
   "mimetype": "text/x-python",
   "name": "python",
   "nbconvert_exporter": "python",
   "pygments_lexer": "ipython3",
   "version": "3.9.10"
  },
  "orig_nbformat": 4
 },
 "nbformat": 4,
 "nbformat_minor": 2
}
