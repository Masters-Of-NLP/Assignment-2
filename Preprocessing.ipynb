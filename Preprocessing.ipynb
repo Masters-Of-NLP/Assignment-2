{
 "cells": [
  {
   "cell_type": "code",
   "execution_count": 21,
   "metadata": {},
   "outputs": [
    {
     "name": "stderr",
     "output_type": "stream",
     "text": [
      "[nltk_data] Downloading package punkt to\n",
      "[nltk_data]     C:\\Users\\mannj\\AppData\\Roaming\\nltk_data...\n",
      "[nltk_data]   Package punkt is already up-to-date!\n"
     ]
    },
    {
     "data": {
      "text/plain": [
       "True"
      ]
     },
     "execution_count": 21,
     "metadata": {},
     "output_type": "execute_result"
    }
   ],
   "source": [
    "import pandas as pd\n",
    "import string\n",
    "import nltk\n",
    "from nltk import sent_tokenize\n",
    "from sklearn.model_selection import train_test_split\n",
    "import os\n",
    "nltk.download('punkt')"
   ]
  },
  {
   "cell_type": "code",
   "execution_count": 4,
   "metadata": {},
   "outputs": [
    {
     "data": {
      "text/html": [
       "<div>\n",
       "<style scoped>\n",
       "    .dataframe tbody tr th:only-of-type {\n",
       "        vertical-align: middle;\n",
       "    }\n",
       "\n",
       "    .dataframe tbody tr th {\n",
       "        vertical-align: top;\n",
       "    }\n",
       "\n",
       "    .dataframe thead th {\n",
       "        text-align: right;\n",
       "    }\n",
       "</style>\n",
       "<table border=\"1\" class=\"dataframe\">\n",
       "  <thead>\n",
       "    <tr style=\"text-align: right;\">\n",
       "      <th></th>\n",
       "      <th>Unnamed: 0</th>\n",
       "      <th>Post_ID</th>\n",
       "      <th>Comment_ID</th>\n",
       "      <th>Comment</th>\n",
       "      <th>Majority_Sentiment</th>\n",
       "    </tr>\n",
       "  </thead>\n",
       "  <tbody>\n",
       "    <tr>\n",
       "      <th>0</th>\n",
       "      <td>1</td>\n",
       "      <td>108l3ho</td>\n",
       "      <td>j3vlnat</td>\n",
       "      <td>Some of them yes but this one i got it from my...</td>\n",
       "      <td>Neutral</td>\n",
       "    </tr>\n",
       "    <tr>\n",
       "      <th>1</th>\n",
       "      <td>2</td>\n",
       "      <td>10j6oqj</td>\n",
       "      <td>j5j34zb</td>\n",
       "      <td>I keep mine in my phone cover for good luck</td>\n",
       "      <td>Positive</td>\n",
       "    </tr>\n",
       "    <tr>\n",
       "      <th>2</th>\n",
       "      <td>3</td>\n",
       "      <td>10j6oqj</td>\n",
       "      <td>j5jbs3f</td>\n",
       "      <td>Hang on to it! These are rare to come by as th...</td>\n",
       "      <td>Neutral</td>\n",
       "    </tr>\n",
       "    <tr>\n",
       "      <th>3</th>\n",
       "      <td>4</td>\n",
       "      <td>10j6oqj</td>\n",
       "      <td>j5jfczd</td>\n",
       "      <td>Yeah?! Cool, I got this from my classmate in 2...</td>\n",
       "      <td>Positive</td>\n",
       "    </tr>\n",
       "    <tr>\n",
       "      <th>4</th>\n",
       "      <td>5</td>\n",
       "      <td>10o9tvi</td>\n",
       "      <td>j6h1ko8</td>\n",
       "      <td>Check out the Kaja Throm! Beautiful marketplac...</td>\n",
       "      <td>Positive</td>\n",
       "    </tr>\n",
       "  </tbody>\n",
       "</table>\n",
       "</div>"
      ],
      "text/plain": [
       "   Unnamed: 0  Post_ID Comment_ID  \\\n",
       "0           1  108l3ho    j3vlnat   \n",
       "1           2  10j6oqj    j5j34zb   \n",
       "2           3  10j6oqj    j5jbs3f   \n",
       "3           4  10j6oqj    j5jfczd   \n",
       "4           5  10o9tvi    j6h1ko8   \n",
       "\n",
       "                                             Comment Majority_Sentiment  \n",
       "0  Some of them yes but this one i got it from my...            Neutral  \n",
       "1        I keep mine in my phone cover for good luck           Positive  \n",
       "2  Hang on to it! These are rare to come by as th...            Neutral  \n",
       "3  Yeah?! Cool, I got this from my classmate in 2...           Positive  \n",
       "4  Check out the Kaja Throm! Beautiful marketplac...           Positive  "
      ]
     },
     "execution_count": 4,
     "metadata": {},
     "output_type": "execute_result"
    }
   ],
   "source": [
    "filepath = \"Dataset/raw_reddit_data_filtered.csv\"\n",
    "df = pd.read_csv(filepath)\n",
    "df.head()"
   ]
  },
  {
   "cell_type": "code",
   "execution_count": 5,
   "metadata": {},
   "outputs": [
    {
     "data": {
      "text/html": [
       "<div>\n",
       "<style scoped>\n",
       "    .dataframe tbody tr th:only-of-type {\n",
       "        vertical-align: middle;\n",
       "    }\n",
       "\n",
       "    .dataframe tbody tr th {\n",
       "        vertical-align: top;\n",
       "    }\n",
       "\n",
       "    .dataframe thead th {\n",
       "        text-align: right;\n",
       "    }\n",
       "</style>\n",
       "<table border=\"1\" class=\"dataframe\">\n",
       "  <thead>\n",
       "    <tr style=\"text-align: right;\">\n",
       "      <th></th>\n",
       "      <th>Unnamed: 0</th>\n",
       "      <th>Post_ID</th>\n",
       "      <th>Comment_ID</th>\n",
       "      <th>Comment</th>\n",
       "      <th>Majority_Sentiment</th>\n",
       "    </tr>\n",
       "  </thead>\n",
       "  <tbody>\n",
       "    <tr>\n",
       "      <th>0</th>\n",
       "      <td>1</td>\n",
       "      <td>108l3ho</td>\n",
       "      <td>j3vlnat</td>\n",
       "      <td>some of them yes but this one i got it from my...</td>\n",
       "      <td>Neutral</td>\n",
       "    </tr>\n",
       "    <tr>\n",
       "      <th>1</th>\n",
       "      <td>2</td>\n",
       "      <td>10j6oqj</td>\n",
       "      <td>j5j34zb</td>\n",
       "      <td>i keep mine in my phone cover for good luck</td>\n",
       "      <td>Positive</td>\n",
       "    </tr>\n",
       "    <tr>\n",
       "      <th>2</th>\n",
       "      <td>3</td>\n",
       "      <td>10j6oqj</td>\n",
       "      <td>j5jbs3f</td>\n",
       "      <td>hang on to it these are rare to come by as the...</td>\n",
       "      <td>Neutral</td>\n",
       "    </tr>\n",
       "    <tr>\n",
       "      <th>3</th>\n",
       "      <td>4</td>\n",
       "      <td>10j6oqj</td>\n",
       "      <td>j5jfczd</td>\n",
       "      <td>yeah cool i got this from my classmate in whil...</td>\n",
       "      <td>Positive</td>\n",
       "    </tr>\n",
       "    <tr>\n",
       "      <th>4</th>\n",
       "      <td>5</td>\n",
       "      <td>10o9tvi</td>\n",
       "      <td>j6h1ko8</td>\n",
       "      <td>check out the kaja throm beautiful marketplace...</td>\n",
       "      <td>Positive</td>\n",
       "    </tr>\n",
       "  </tbody>\n",
       "</table>\n",
       "</div>"
      ],
      "text/plain": [
       "   Unnamed: 0  Post_ID Comment_ID  \\\n",
       "0           1  108l3ho    j3vlnat   \n",
       "1           2  10j6oqj    j5j34zb   \n",
       "2           3  10j6oqj    j5jbs3f   \n",
       "3           4  10j6oqj    j5jfczd   \n",
       "4           5  10o9tvi    j6h1ko8   \n",
       "\n",
       "                                             Comment Majority_Sentiment  \n",
       "0  some of them yes but this one i got it from my...            Neutral  \n",
       "1        i keep mine in my phone cover for good luck           Positive  \n",
       "2  hang on to it these are rare to come by as the...            Neutral  \n",
       "3  yeah cool i got this from my classmate in whil...           Positive  \n",
       "4  check out the kaja throm beautiful marketplace...           Positive  "
      ]
     },
     "execution_count": 5,
     "metadata": {},
     "output_type": "execute_result"
    }
   ],
   "source": [
    "df['Comment'] = df['Comment'].str.lower()\n",
    "df['Comment'] = df['Comment'].str.translate(str.maketrans('', '', string.punctuation))\n",
    "df['Comment'] = df['Comment'].apply( lambda comment:' '.join(word for word in comment.split() if word.isalpha()))\n",
    "df.head()"
   ]
  },
  {
   "cell_type": "code",
   "execution_count": null,
   "metadata": {},
   "outputs": [],
   "source": []
  },
  {
   "cell_type": "code",
   "execution_count": 14,
   "metadata": {},
   "outputs": [
    {
     "name": "stdout",
     "output_type": "stream",
     "text": [
      "['some of them yes but this one i got it from my brother who studied in malaysia and he made a friend from bhutan there and he found it for me.', 'i keep mine in my phone cover for good luck.', 'hang on to it these are rare to come by as the bhutanese hardly use nu notes.', 'yeah cool i got this from my classmate in while studyin in india.', 'check out the kaja throm beautiful marketplace they also have lots of events now and then with lovely food stalls as well plus youll see amazing looking local vegetables.', 'out of curiosity what field of work brings you to thimphu re entertainment sports pubs karaoke coffee shops are in abundance we have zoos paintball gokarting i highly recommend exploring the trails on the outskirts of the city although this might be easier if you have a mountain bike if you dont own a car bhutanese people are friendly you can strike up a conversation with anyone you meet.', 'definitely dechenphu lhakhanggoenkhang serene place spiritual and beautiful feeling when your inside.', 'thank you been to kaja throm.', 'i am in salestechnical sales so trying to explore some new businesses.', 'shall not get facilities that other citizens enjoy ah getting treated like a second class citizen.']\n"
     ]
    }
   ],
   "source": [
    "documents = []\n",
    "for sentence in sent_tokenize(text):\n",
    "        documents.append(sentence)"
   ]
  },
  {
   "cell_type": "code",
   "execution_count": 19,
   "metadata": {},
   "outputs": [
    {
     "name": "stdout",
     "output_type": "stream",
     "text": [
      "                                               Value\n",
      "0  yep anyway you see where i am coming from many...\n",
      "1  this is where united nations could come and ma...\n",
      "2     you kinda sound like johnny bravo saying that.\n",
      "3  hope you had a good time however possible here...\n",
      "4                                feeling proud bois.\n"
     ]
    }
   ],
   "source": [
    "train, test = train_test_split(documents, test_size=0.2)\n",
    "train_df = pd.DataFrame(train, columns=['Value'])\n",
    "test_df = pd.DataFrame(test, columns=['Value'])\n",
    "\n",
    "print(train_df.head())"
   ]
  },
  {
   "cell_type": "code",
   "execution_count": 22,
   "metadata": {},
   "outputs": [],
   "source": [
    "folder_name = 'Dataset/Training'\n",
    "if not os.path.exists(folder_name):\n",
    "    os.makedirs(folder_name)\n",
    "\n",
    "folder_name = 'Dataset/Testing'\n",
    "if not os.path.exists(folder_name):\n",
    "    os.makedirs(folder_name)\n",
    "\n",
    "# Save to CSV files\n",
    "train_file_path = 'Dataset/Training/train_data'\n",
    "test_file_path = 'Dataset/Testing/test_data'\n",
    "train_df.to_csv(train_file_path, index=False)\n",
    "test_df.to_csv(test_file_path, index=False)"
   ]
  }
 ],
 "metadata": {
  "kernelspec": {
   "display_name": "Python 3",
   "language": "python",
   "name": "python3"
  },
  "language_info": {
   "codemirror_mode": {
    "name": "ipython",
    "version": 3
   },
   "file_extension": ".py",
   "mimetype": "text/x-python",
   "name": "python",
   "nbconvert_exporter": "python",
   "pygments_lexer": "ipython3",
   "version": "3.11.1"
  },
  "orig_nbformat": 4
 },
 "nbformat": 4,
 "nbformat_minor": 2
}
